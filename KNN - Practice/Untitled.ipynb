{
 "cells": [
  {
   "cell_type": "code",
   "execution_count": 2,
   "metadata": {},
   "outputs": [
    {
     "name": "stdout",
     "output_type": "stream",
     "text": [
      "[False False  True]\n",
      "1\n",
      "0.3333333333333333\n"
     ]
    }
   ],
   "source": [
    "# Imagine two possible classes, red and blue\n",
    "import numpy as np\n",
    "# Our real test data\n",
    "test = np.array(['blue','blue','red'])\n",
    " \n",
    "# Our prediction\n",
    "pred = np.array(['blue','blue','blue'])\n",
    " \n",
    " \n",
    "# boolean array comparison\n",
    "print(test != pred)\n",
    " \n",
    "# Progamming languages can treat False as 0 and True as 1 for math\n",
    "# Weird I know, but it is very common across programming languages\n",
    "# For example (this is meaningless info)\n",
    "print(sum(test != pred))\n",
    " \n",
    " \n",
    "# So we can grab\n",
    "# Error Rate\n",
    "print(np.mean(test!=pred))\n",
    " \n",
    "# Accuracy\n"
   ]
  },
  {
   "cell_type": "code",
   "execution_count": 3,
   "metadata": {},
   "outputs": [
    {
     "name": "stdout",
     "output_type": "stream",
     "text": [
      "0.6666666666666666\n"
     ]
    }
   ],
   "source": [
    "print(np.mean(test == pred))\n"
   ]
  },
  {
   "cell_type": "code",
   "execution_count": null,
   "metadata": {},
   "outputs": [],
   "source": []
  }
 ],
 "metadata": {
  "kernelspec": {
   "display_name": "Python 3",
   "language": "python",
   "name": "python3"
  },
  "language_info": {
   "codemirror_mode": {
    "name": "ipython",
    "version": 3
   },
   "file_extension": ".py",
   "mimetype": "text/x-python",
   "name": "python",
   "nbconvert_exporter": "python",
   "pygments_lexer": "ipython3",
   "version": "3.7.6"
  }
 },
 "nbformat": 4,
 "nbformat_minor": 4
}
